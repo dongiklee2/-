{
  "nbformat": 4,
  "nbformat_minor": 0,
  "metadata": {
    "colab": {
      "name": "20220316.ipynb",
      "provenance": [],
      "collapsed_sections": [],
      "authorship_tag": "ABX9TyPA4hDyXa/l/PnK4+JB5X67",
      "include_colab_link": true
    },
    "kernelspec": {
      "name": "python3",
      "display_name": "Python 3"
    },
    "language_info": {
      "name": "python"
    }
  },
  "cells": [
    {
      "cell_type": "markdown",
      "metadata": {
        "id": "view-in-github",
        "colab_type": "text"
      },
      "source": [
        "<a href=\"https://colab.research.google.com/github/dongiklee2/-/blob/main/20220316.ipynb\" target=\"_parent\"><img src=\"https://colab.research.google.com/assets/colab-badge.svg\" alt=\"Open In Colab\"/></a>"
      ]
    },
    {
      "cell_type": "markdown",
      "source": [
        "github 자주 쓰이는 것들\n",
        "\t1) 변수 -  variables.ipynb, string 변수중에 중요한 것\n",
        "\t2) 문법(조건문 if 반복문 for) - syntax\n",
        "\t3) 함수 - function\n",
        "\t4) 패키지 - packages.ipynb / import\n",
        "\n",
        "  변수는 크게 두가지, numbers와 string(문자) + list도 존재(대괄호를 쓰고 ,를 이용해 여러개를 넣으면 됨 / 뭐든 넣을 수 있음)\n",
        "\t-> a=1 b=2 등은 변수에 숫자를 넣은 것\n",
        "\ta = 1; print(type(a)) 에서 나오는 class int는 정수 type이라는 뜻\n",
        "\tfloat 소수, 이 때 1은 정수 int지만 1.0은 소수 float임, 즉 1과 1.0은 다르다\n",
        "\tstring을 넣는 방법은 '' 안에 넣거나 \" \" 안에 넣으면 된다, ' 123'이면 타입은 str, 내용은 1 2 3 3개의 character를 가진 함수가 된다\n",
        "\t숫자를 적는다 하더라도 ' '가 되어 있으면 string이 되는 것"
      ],
      "metadata": {
        "id": "r-Ay9nRg-cKp"
      }
    },
    {
      "cell_type": "code",
      "source": [
        "a = [1, 2, 3, 4]; print(type(a)); print(a[0])"
      ],
      "metadata": {
        "colab": {
          "base_uri": "https://localhost:8080/"
        },
        "id": "xHdAUFS6-sgl",
        "outputId": "d615ea5d-72e5-4262-c1f2-a2939e175583"
      },
      "execution_count": 1,
      "outputs": [
        {
          "output_type": "stream",
          "name": "stdout",
          "text": [
            "<class 'list'>\n",
            "1\n"
          ]
        }
      ]
    },
    {
      "cell_type": "markdown",
      "source": [
        "list 중 일부분만 사용하는 것을 indexing이라고 한다\n",
        "\t파이썬은 위 함수의 경우 a[0]하면 1이 나옴 즉 0부터  시작, 만약 a[:]와 같이 입력하면 모든 내용이 다 나온다\n",
        "\t만약 2, 3만 가져오고 싶다면? a[1:3]라고 입력하면 된다, 즉 이는 a:b에서 a부터 b까지라는 뜻이 된다\n",
        "\t\t-> 왜 1:2가 아닌가? a[a:b]의 모양에서 뒷부분 b는 해당 항목을 포함하지 않음\n",
        "\t\ta = [1, 2, 3, 4, 5, 6, 7, 8, 9, 10]로 바꾸고 만약 끝에서 하나 앞의 내용 즉 10을 하고 싶다면? a[2:-1]로 입력하면 나옴"
      ],
      "metadata": {
        "id": "8BX6OgH0-6Iq"
      }
    },
    {
      "cell_type": "code",
      "source": [
        "a = [1,'a', [3, '4']]; print(type(a)); print(a[0]); print(a[1]); print(a[2]); print(a[2][1])"
      ],
      "metadata": {
        "colab": {
          "base_uri": "https://localhost:8080/"
        },
        "id": "NnmJUiK8-8yU",
        "outputId": "70b3a609-4fba-4714-ae26-64a23856bc2f"
      },
      "execution_count": 2,
      "outputs": [
        {
          "output_type": "stream",
          "name": "stdout",
          "text": [
            "<class 'list'>\n",
            "1\n",
            "a\n",
            "[3, '4']\n",
            "4\n"
          ]
        }
      ]
    },
    {
      "cell_type": "markdown",
      "source": [
        "1 'a' [3,'4']를 가지는 3 character 내용의 list임\n",
        "\n",
        "a = [1,'a', [3, '4']] 에서 '4'만 내놓고 싶다면? a[2][1]로 하면 된다\n",
        "\n",
        "a = 'abcdef123' 에서 일부분만 가지고 오고 싶다면? \n",
        "-> list와 string은 indexing 하는 방법이 똑같다!\n",
        "\n",
        "dict에 관해\n",
        "\ta =\t{\"a\": \"apple\", \"b\": \"orange\", \"c\": 2014} 이면 item 정보(내용)은 3개다\n",
        "\tlist는 줄줄이 나열할 뿐 but dictionary는? 표제어와 함께 그것에 대한 설명이 있다 코딩 dict도 마찬가지!\n",
        "\t\"a\": \"apple\" 에서 \"a\"는 key, \"apple\"은 value가 된다\n",
        "\tdict를 쓸 때는 key 즉 제목값이 access를 하게 해 준다 so a[0]과 같이 list를 쓰는 것처럼 하면 안됨\n",
        "\ta[\"a\"]라고 입력해야 apple이 나온다 이 때 key에는 숫자가 오든 문자가 오든 상관 X"
      ],
      "metadata": {
        "id": "qb0tvB5d--BD"
      }
    },
    {
      "cell_type": "markdown",
      "source": [
        "String\n",
        "len 함수? 내용의 길이를 말해줌\n",
        "s = 'abcdef' 에서 길이는 6 so len(s) = 6\n",
        "\n",
        "s[1]+s[3]+s[4:]*10 = ' bdefefefefefefefefefef '\n",
        "string임에도 +를 사용할 수 있음\n",
        "\n",
        "print(s[0]) 에서 print가 함수, 파이썬에서는 함수를 쓸 때 무조건 괄호()를 써야한다\n",
        "\t\t함수(입력) = 출력\n",
        "\n",
        "  upper 함수? s.upper() = ABCDEF\n",
        "\t  대문자로 만들어 줌\n",
        "\n",
        "s = ' this is a house built this year.\\n' 만 실행하면 아무런 변화도 보이지 않는다 so print(s) 혹은 s라고 적어서 s가 변화했다는 사실을 볼 수 있게 해주자\n",
        "  단, 셀에서 맨 마지막 줄에 있을 때만 print를 안써도 print 함수가 적용된다\n",
        "\n",
        "result = s.find('house') 하면 11이 나온다\n",
        "\t  띄어 쓰기도 하나의 내용으로 생각한다 so 앞에서부터 0,1,2, 하면서 공백까지 합쳐가다보면 처음으로 house가 나오는 것이 11번째라는 뜻\n",
        "\n",
        "s = s.strip() white space (지저분한 것들, 부적절한 띄어쓰기나 줄바꾸기 문장부호 등을 없애줌)\n",
        "\n",
        "tokens = s.split(' ')\t       빈칸을 포함하지 않되 빈칸을 중심으로 나눠서 list로 나누어 준다\n",
        "\t\t['this', 'is', 'a', 'house', 'built', 'this', 'year.']\n",
        "\t\n",
        "s = ' '.join(tokens)\t   빈칸을 이용해서 해당 list를 재조립하라\n",
        "\t\t' this is a house built this year. '\n",
        "\n",
        "s = s.replace('this', 'that') this를 that으로 바꿔 줘라\n",
        "\t\t' that is a house built that year. '"
      ],
      "metadata": {
        "id": "vUSXFy43_YLN"
      }
    },
    {
      "cell_type": "markdown",
      "source": [
        "Function\n",
        "함수를 만드는 것은 쉽다!\t\tdef 함수명(입력변수) :(여기서 :콜론을 안적으면 오류남)\n",
        "\t\t\t\t\t\treturn 출력변수"
      ],
      "metadata": {
        "id": "6MqFWNcM_mLE"
      }
    },
    {
      "cell_type": "markdown",
      "source": [
        "Syntax\n",
        "  대표적인 것들 - 반복문 for while(지금 몰라도 됨), 조건문 if switch(지금 몰라도 됨)\n",
        "\n",
        "  for의 경우\n",
        "\n",
        "\n",
        "  for    in   :\n",
        "\t\t    (    )  (함수)\t\t\t\t\t이러한 방식의 함수를 for-loop라고 함\n",
        "\t(이 부분 띄워야 함 안 띄우면 for와 밑의 함수가 독립적으로 시행)\n",
        "\n",
        "  a = [1, 2, 3, 4]\n",
        "\tfor i in range(len(a)):\t\t\t\t여기서 range는? range(숫자) 를 하면 리스트가 만들어짐 ex) range(4)는 [0 1 2 3]\n",
        "  \t     print(a[i])\n",
        "\n",
        "  a = ['red', 'green', 'blue', 'purple']\n",
        "\tfor i in a:\n",
        "   \t      print(i)\n",
        "\t\tred\n",
        "\t\tgreen\n",
        "\t\tblue\n",
        "\t\tpurple\n",
        "\n",
        "  if의 경우\n",
        "\n",
        "\n",
        "  a = 0\t\t\t함수에서 =는 equal이 x, 오른쪽 내용을 왼쪽에 assign 해준다는 뜻\n",
        "  if a == 0:\t\t\tequal의 뜻은 == 만약 \"아니라면\"의 뜻을 주고 싶다면? !=를 대신 쓴다\n",
        "\t    print(a)\n",
        "\n",
        "  a = 0\n",
        "  if a == 0:\n",
        "\t    print(a)\n",
        "  else:\n",
        "\t    print(a+1)\t\t방식으로 사용해 a가 if에 맞지 않더라도 값을 낼 수 있음\n",
        "\n",
        "\n",
        "  for i in range(1, 3):\t\t\trange(1,3)? [1, 2]\n",
        "\t    for j in range(3, 5):\t\trange(3,5)? [3, 4]\n",
        "\t        print(i*j)\n",
        "\t\t\t[3, 4, 6, 8]\n",
        "\n",
        "  List Comprehension - list 안 쪽에 for 문이 들어가 있음\n",
        "\ta = [1, 2, 3, 4]\n",
        "\tb = [i for i in a if i >=2]\t\t이건 for-loop해서 나오는 내용을 리스트로 만들라는 뜻\n",
        "\tb\n",
        "\t\t[2, 3, 4]\n",
        "\n",
        "  a = ['red', 'green', 'blue', 'purple']\n",
        "  b = [i for i in a if len(i) >=4]\t\t\tred green blue purple을 i 자리에 넣고 len(i)가 4보다 크거나 같으면 for, so red는 len 값이 3이므로 if절 통과 불가\n",
        "  b\n",
        "\t\t['green', 'blue', 'purple']\n",
        "\n",
        "  Dict Comprehension - dict 안에 for 문이 들어가 있음\n",
        "  a = ['red', 'green', 'blue', 'purple']\n",
        "  b = [1, 2, 3, 4]\n",
        "  c = {a[i]:b[i] for i in range(4)}\t\t\t[0, 1, 2, 3]으로 두고 풀면? c는 {a[0]:b[0], a[1]:b[1], a[2]:b[2], a[3]:b[3]}\n",
        "  c\n",
        "  \t{'blue': 3, 'green': 2, 'purple': 4, 'red': 1}"
      ],
      "metadata": {
        "id": "1csTog2aAAOP"
      }
    },
    {
      "cell_type": "markdown",
      "source": [
        "import - 여러 가지 패키지들(특정 사람들이 좋은 함수들을 만들어냄), 많이 쓰는 패키지들은 파이썬을 깔면 install이 되어 있어서 그냥 import만 하면 쓸 수 있음\n",
        "\t-> 설치는 되어 있어도 바로 쓸 수 있는 상태로 만들어 주어야 함\n",
        "\timport도 할 필요가 없는 것들 built in\n",
        "\t아무 것도 안 되어 있어서 install을 해야 하는 것"
      ],
      "metadata": {
        "id": "aunaQRMgAo73"
      }
    },
    {
      "cell_type": "markdown",
      "source": [
        "numpy의 역할? 난수를 만들거나 행렬을 만들거나 숫자를 가지고 간단한 통계처리 등\n",
        "  \n",
        "    numpy.random.randn(5) - numpy 안의 random 안의 randn function을 실행, 이 경우 5개의 랜덤 넘버가 만들어짐\n",
        "\timport numpy as np -> numpy를 간단히 하여 np로 사용할 수 있게 만듬\n",
        "\tn = np.random.randn(100) n이라는 variable에 100개의 난수 집어넣음\n",
        "\n",
        "\tmatplotlib.pyplot.hist(n) 하면 n이라는 variable에 대한 표를 만들어 줌, hist란? histogram - 몇개의 칸으로 나누고 그 칸마다 해당하는 난수들이 몇 번 나오는가를 표로 제작\n",
        "\t\tex)-2.5에서 -2 사이에는 해당하는 변수가 4개가 있다\n",
        "\timport matplotlib.pyplot - matplotlib.pyplot를 한 번에 import 해줌\n",
        "\timport matplotlib.pyplot as plt - 앞서 numpy의 경우와 같이 저 긴 package를 plt로 바꿔서 간단하게 사용할 수 있게 해줌\n",
        "\n",
        "\tfrom matplotlib import pyplot\n",
        "\tpyplot.hist(n)\n",
        "\t\t\t\t\t\t\t귀찮을 때 from을 이용해 빠르게 줄이는 방법들\n",
        "\tfrom matplotlib.pyplot import hist\n",
        "\thist(n)"
      ],
      "metadata": {
        "id": "WpmbTl3rAvC5"
      }
    },
    {
      "cell_type": "markdown",
      "source": [
        "numpy와 matplotlib.ipynb(numpy_matplotlib.ipynb)\n",
        "\t%%%%%%%%%%%%%%%create nd arrays (≈matrices)\n",
        "\tMatrices란? Matrix(행렬, 직사각형의 숫자 array 배열)\n",
        "\tnd array? n-dimended array ex) 1d array 일차원 배열 등\n",
        "\n",
        "\n",
        "\t\"ndarray\"\n",
        "\tx = np.array([1,2,3])\t\t\t\t\t[1 2 3]\n",
        "\tprint(x)\t\t\t\t\t\t<class 'numpy.ndarray'>\tclass란 특수한 변수를 말함, 즉 numpy에서 제공하는 특수한 변수 ndarray\n",
        "\tprint(type(x))\t\t\t\t\t(3,)\t\t\t1d array라서 이렇게 나옴\n",
        "\tprint(x.shape)\t\t\t\n",
        "\n",
        "\n",
        "\t\"arange\"\n",
        "\tx = np.arange(0,10,2)\n",
        "\t\t여기서 괄호 안의 숫자는 increment 증가되는 것 즉 0과 10 사이에서 2만큼씩 늘어나는 숫자를 뽑아라 but 10은 포함 X\t\t\t\t\n",
        "\tprint(x)\t\t\t\t\t\t\n",
        "\tprint(type(x))\t\t\t\t\t\n",
        "\tprint(x.shape)\t\t\t\t\t\n",
        "\t\n",
        "\t->\n",
        "\n",
        "\t[0 2 4 6 8]\n",
        "\t<class 'numpy.ndarray'>\n",
        "\t(5,)\n",
        "\n",
        "\t\"linspace\"\n",
        "\tx = np.linspace(0,10,6)\t\t0에서 10까지중에 균등한 간격으로 6개의 숫자를 만들어라!\n",
        "\tprint(x)\n",
        "\tprint(type(x))\n",
        "\tprint(x.shape)\n",
        "\n",
        "\t->\n",
        "\n",
        "\t[ 0.  2.  4.  6.  8. 10.]\n",
        "\t<class 'numpy.ndarray'>\n",
        "\t(6,)\n",
        "\n",
        "\n",
        "\t\"list를 ndarray 하는 방법?\"\n",
        "\tx = np.array([[1,2,3], [4,5,6]])\n",
        "\tprint(x)\n",
        "\tprint(type(x))\n",
        "\tprint(x.shape)\n",
        "\n",
        "\t->\n",
        "\n",
        "\t[[1 2 3]\n",
        " \t[4 5 6]]\n",
        "\t<class 'numpy.ndarray'>\n",
        "\t(2, 3)\n",
        "\n",
        "\t3d의 경우\n",
        "\tx = np.array([[[1,2,3], [4,5,6]], [[7,8,9], [10,11,12]]])\n",
        "\tprint(x)\n",
        "\tprint(type(x))\n",
        "\tprint(x.shape)\n",
        "\n",
        "\t->\n",
        "\n",
        "\t[[[ 1  2  3]\n",
        " \t [ 4  5  6]]\n",
        "\n",
        "\t [[ 7  8  9]\n",
        "\t  [10 11 12]]]\n",
        "\t<class 'numpy.ndarray'>\n",
        "\t(2, 2, 3)\t\t3에 해당은 123, 두번째 2는 \t123\n",
        "\t\t\t\t\t\t456\n",
        "\t\t\t첫번째 2는 전체를 의미\n",
        "\t\t\t123\n",
        "\t\t\t456\n",
        "\n",
        "\t\t\t789\n",
        "\t\t\t10 11 12\n",
        "\n",
        "\t\"ones\" 1로 채워진 array를 만듬, \"zeros\"도 마찬가지!\n",
        "\tx = np.ones([2, 2, 3])\n",
        "\tprint(x)\n",
        "\tprint(type(x))\n",
        "\tprint(x.shape)\n",
        "\n",
        "\t->\n",
        "\n",
        "\t[[[1. 1. 1.]\n",
        "\t  [1. 1. 1.]]\n",
        "\n",
        "\t [[1. 1. 1.]\n",
        "\t  [1. 1. 1.]]]\n",
        "\t<class 'numpy.ndarray'>\n",
        "\t(2, 2, 3)\n",
        "\n",
        "\t%%%%%%%%%%%%%%%%%%%%%%%%%create random numbers\n",
        "\tnp.random.normal(0, 1, [2,3,4])\t\t0과 1 사이에서 [2,3,4] 형태의 array를 만들어라!\n",
        "\t\n",
        "\t->\n",
        "\n",
        "\tarray([[[-0.7684465 ,  2.02152979,  0.67345919,  1.42597255],\n",
        "\t        [ 0.10535416,  0.20301356,  1.04757358, -1.74130648],\n",
        "\t        [ 1.25230091, -1.16243132,  0.71093607,  1.01844288]],\n",
        "\t\n",
        "\t       [[-0.47182462,  0.38816534,  1.38832171,  0.11857628],\n",
        "\t        [-0.17241228,  0.67694336, -0.71748975,  1.45367011],\n",
        "\t        [-0.6923177 , -0.25912487,  0.58073832, -0.4477943 ]]])\n",
        "\n",
        "\tx = np.random.normal(0, 1, 100)\t\t100개의 1d짜리 array들을 만든다 0에서 1사이 값으로\n",
        "\tprint(x)\n",
        "\tplt.hist(x, bins=10)\t\t\t\tbins? 가로축에 들어갈 칸의 개수를 정하는 것\n",
        "\n",
        "\t%%%%%%%%%%%%%%%%%%generate a sine curve\n",
        "\tplt.figure()\t\t\t\t\t\t틀을 잡아주는 함수\t\n",
        "\n",
        "\ttheta1 = np.linspace(0, 2*np.pi, 100)\t\t\t\t2*np.pi는 우리가 아는 파이, 즉 2파이를 말함\n",
        "\ts1 = np.sin(theta1)\t\t\t\t\t\tso 해당 function은 0부터 2파이까지 사이에서 100개의 linspace한 숫자들을 만들어라\n",
        "\ttheta2 = np.linspace(0, 2*np.pi, 100) + np.pi/2\t\t\tnp.sin? sin 함수를 만들라는 것!\n",
        "\ts2 = np.sin(theta2)\n",
        "\t\t\t\t\t\t\t\ttheta는 입력, s는 출력\n",
        "\tplt.subplot(2, 1, 1) # (행, 열, 만들어진 그림중에 몇 번째를 쓸지)\t전체 그림이 2줄, 세로로는 1줄, 앞서 만들어진 그림  중 1번째 거에 그림을 그려라\n",
        "\tplt.plot(theta1, s1, '.')\t\t\t\t\tsubplot은 plot을 꾸며주는 것, 여기서 .은 .형태로 그림을 그리라는 뜻\n",
        "\tplt.subplot(2, 1, 2) # (rows, columns, panel number)\n",
        "\tplt.plot(theta2, s2, '.')\n",
        "\n",
        "\t요소들이 상관관계가 높을 때 즉 correlation이 높을 때 r 즉 요소들로 만든 그래프의 기울기가 1에 가까워진다\n",
        "\n",
        "\tnp.corrcoef(s1,s2)\n",
        "\n",
        "\t->\n",
        "\n",
        "\tarray([[1.00000000e+00, 2.41915449e-17],\n",
        "\t       [2.41915449e-17, 1.00000000e+00]])\t\t\t여기서 첫번째와 네번째는 항상 1이 나오므로 버리고, 2 3은 같으므로 사실상 2나 3 하나만 보면 됨"
      ],
      "metadata": {
        "id": "vTfzK1EvA9F6"
      }
    },
    {
      "cell_type": "code",
      "execution_count": null,
      "metadata": {
        "id": "UNcxycxg8A8e"
      },
      "outputs": [],
      "source": [
        ""
      ]
    }
  ]
}