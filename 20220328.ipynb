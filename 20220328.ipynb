{
  "nbformat": 4,
  "nbformat_minor": 0,
  "metadata": {
    "colab": {
      "name": "Untitled3.ipynb",
      "provenance": [],
      "authorship_tag": "ABX9TyPvTBOaedWcX3o64LzmO84B",
      "include_colab_link": true
    },
    "kernelspec": {
      "name": "python3",
      "display_name": "Python 3"
    },
    "language_info": {
      "name": "python"
    }
  },
  "cells": [
    {
      "cell_type": "markdown",
      "metadata": {
        "id": "view-in-github",
        "colab_type": "text"
      },
      "source": [
        "<a href=\"https://colab.research.google.com/github/dongiklee2/-/blob/main/20220328.ipynb\" target=\"_parent\"><img src=\"https://colab.research.google.com/assets/colab-badge.svg\" alt=\"Open In Colab\"/></a>"
      ]
    },
    {
      "cell_type": "code",
      "execution_count": null,
      "metadata": {
        "id": "DLHLMpYJGNyL"
      },
      "outputs": [],
      "source": [
        "!pip install gradio\n",
        "import gradio as gr\n",
        "import requests\n",
        "import pandas as pd"
      ]
    },
    {
      "cell_type": "code",
      "source": [
        "URL = ('http://apis.data.go.kr/B552584/OzYlwsndOccrrncInforInqireSvc/'\n",
        "\t'getOzAdvsryOccrrncInfo?'\n",
        "\t'&year=2020'\n",
        "\t'&pageNo=1'\n",
        "\t'&numOfRows=100'\n",
        "\t'&returnType=json'\n",
        "\t'&serviceKey=GxT31kPsTCuIh9eP35FNptTWW6WOb%2F8jGEBrsxHL3bEuMU7gxaXBKn7ZOPckSZFE4kWNnbCVBbH8l2yMIyeIjg%3D%3D')\n",
        "response = requests.get(URL)"
      ],
      "metadata": {
        "id": "MkIP6zTEGr4a"
      },
      "execution_count": 8,
      "outputs": []
    },
    {
      "cell_type": "code",
      "source": [
        "response"
      ],
      "metadata": {
        "id": "jrqU4nt0HSNX"
      },
      "execution_count": null,
      "outputs": []
    },
    {
      "cell_type": "code",
      "source": [
        "r = response.json()\n",
        "r"
      ],
      "metadata": {
        "id": "NB3aKzQoHMrN"
      },
      "execution_count": null,
      "outputs": []
    },
    {
      "cell_type": "code",
      "source": [
        "def test(year):\n",
        "  URL = ('http://apis.data.go.kr/B552584/OzYlwsndOccrrncInforInqireSvc/'\n",
        "    'getOzAdvsryOccrrncInfo?'\n",
        "\t  '&year='+year+\n",
        "\t  '&pageNo=1'\n",
        "\t  '&numOfRows=100'\n",
        "\t  '&returnType=json'\n",
        "\t  '&serviceKey=GxT31kPsTCuIh9eP35FNptTWW6WOb%2F8jGEBrsxHL3bEuMU7gxaXBKn7ZOPckSZFE4kWNnbCVBbH8l2yMIyeIjg%3D%3D')\n",
        "  \n",
        "  response = requests.get(URL)\n",
        "  r = response.json()\n",
        "  items = r['response']['body']['items']\n",
        "\n",
        "  clearTime = [item['clearTime'] for item in items]\n",
        "  clearVal = [item['clearVal'] for item in items]\n",
        "  dataDate = [item['dataDate'] for item in items]\n",
        "  districtName = [item['districtName'] for item in items]\n",
        "  issueLvl = [item['issueLvl'] for item in items]\n",
        "  issueTime = [item['issueTime'] for item in items]\n",
        "  issueVal = [item['issueVal'] for item in items]\n",
        "  maxVal = [item['maxVal'] for item in items]\n",
        "  moveName = [item['moveName'] for item in items]  \n",
        "  sn = [item['sn'] for item in items]\n",
        "\n",
        "  clearTime = pd.Series(clearTime)\n",
        "  clearVal = pd.Series(clearVal)   \n",
        "  dataDate = pd.Series(dataDate)\n",
        "  districtName = pd.Series(districtName)\n",
        "  issueLvl = pd.Series(issueLvl)\n",
        "  issueTime = pd.Series(issueTime)\n",
        "  issueVal = pd.Series(issueVal)\n",
        "  maxVal = pd.Series(maxVal)\n",
        "  moveName = pd.Series(moveName)\n",
        "  sn = pd.Series(sn)  \n",
        "\n",
        "  df = pd.DataFrame({ 'clearTime': clearTime, 'clearVal': clearVal, 'dataDate': dataDate, 'districtName': districtName, 'issueLvl': issueLvl, 'issueTime': issueTime, 'issueVal': issueVal, 'maxVal': maxVal, 'moveName': moveName, 'sn': sn})\n",
        "  return df"
      ],
      "metadata": {
        "id": "vIvaRROIHBR6"
      },
      "execution_count": 20,
      "outputs": []
    },
    {
      "cell_type": "code",
      "source": [
        "iface = gr.Interface(test, gr.inputs.Dropdown(['2020', '2019', '2018', '2017', '2016', '2015', '2014', '2013']), outputs=['dataframe'])\n",
        "iface.launch(debug=True)"
      ],
      "metadata": {
        "id": "fE4T40jLJUeQ"
      },
      "execution_count": null,
      "outputs": []
    }
  ]
}