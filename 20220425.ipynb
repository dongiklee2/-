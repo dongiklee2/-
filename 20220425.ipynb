{
  "nbformat": 4,
  "nbformat_minor": 0,
  "metadata": {
    "colab": {
      "name": "Untitled4.ipynb",
      "provenance": [],
      "authorship_tag": "ABX9TyMIshOdoUPmWxBylTSVTOcv",
      "include_colab_link": true
    },
    "kernelspec": {
      "name": "python3",
      "display_name": "Python 3"
    },
    "language_info": {
      "name": "python"
    }
  },
  "cells": [
    {
      "cell_type": "markdown",
      "metadata": {
        "id": "view-in-github",
        "colab_type": "text"
      },
      "source": [
        "<a href=\"https://colab.research.google.com/github/dongiklee2/Assignment/blob/main/20220425.ipynb\" target=\"_parent\"><img src=\"https://colab.research.google.com/assets/colab-badge.svg\" alt=\"Open In Colab\"/></a>"
      ]
    },
    {
      "cell_type": "markdown",
      "source": [
        "Autocorrelation은 주기적 신호의 존재와 같은 반복 패턴을 찾거나 고조파 주파수에 의해 암시되는 신호에서 누락된 기본 주파수를 식별하기 위한 수학적 도구이다. 주로 시간 영역 신호 함수의 값을 분석하기 위해 신호 처리에 자주 사용된다."
      ],
      "metadata": {
        "id": "W_hCh-OvGW4T"
      }
    },
    {
      "cell_type": "code",
      "execution_count": 5,
      "metadata": {
        "id": "5SzZwRaID2zv"
      },
      "outputs": [],
      "source": [
        "x = [12, 14, 25, 25, 28, 39, 44, 47, 50, 54, 61, 68, 77, 80, 81]"
      ]
    },
    {
      "cell_type": "code",
      "source": [
        "import statsmodels.api as st"
      ],
      "metadata": {
        "id": "i_hIbvxMEMzZ"
      },
      "execution_count": 8,
      "outputs": []
    },
    {
      "cell_type": "code",
      "source": [
        "st.tsa.acf(x)"
      ],
      "metadata": {
        "colab": {
          "base_uri": "https://localhost:8080/"
        },
        "id": "Op8UPgXqESC-",
        "outputId": "51451309-489b-4e55-9bad-f7b82ab628b3"
      },
      "execution_count": 9,
      "outputs": [
        {
          "output_type": "stream",
          "name": "stderr",
          "text": [
            "/usr/local/lib/python3.7/dist-packages/statsmodels/tsa/stattools.py:541: FutureWarning: fft=True will become the default in a future version of statsmodels. To suppress this warning, explicitly set fft=False.\n",
            "  warnings.warn(msg, FutureWarning)\n"
          ]
        },
        {
          "output_type": "execute_result",
          "data": {
            "text/plain": [
              "array([ 1.        ,  0.80915828,  0.5902594 ,  0.40272631,  0.21664902,\n",
              "        0.04526204, -0.07106935, -0.17191636, -0.27024881, -0.36103759,\n",
              "       -0.42548968, -0.42337215, -0.38208047, -0.30134992, -0.15749074])"
            ]
          },
          "metadata": {},
          "execution_count": 9
        }
      ]
    },
    {
      "cell_type": "code",
      "source": [
        "import statsmodels.graphics.tsaplots as tsaplots\n",
        "import matplotlib.pyplot as plt"
      ],
      "metadata": {
        "id": "pICP1eqSE1pR"
      },
      "execution_count": 15,
      "outputs": []
    },
    {
      "cell_type": "code",
      "source": [
        "f = tsaplots.plot_acf(x, lags=10)\n",
        "plt.show()"
      ],
      "metadata": {
        "colab": {
          "base_uri": "https://localhost:8080/",
          "height": 281
        },
        "id": "_8hxV7_aE4rv",
        "outputId": "be752aa8-d7d6-4b26-9648-0e1af5943d96"
      },
      "execution_count": 16,
      "outputs": [
        {
          "output_type": "display_data",
          "data": {
            "text/plain": [
              "<Figure size 432x288 with 1 Axes>"
            ],
            "image/png": "[encoded data removed]"
          },
          "metadata": {
            "needs_background": "light"
          }
        }
      ]
    },
    {
      "cell_type": "markdown",
      "source": [
        "Root mean square(RMS)는 수학적으로 평균 제곱의 제곱근을 의미한다. 2차 평균으로도 알려져 있으며 audio-porcessing에서는 특정 주기 동안 소리의 평균 음량을 측정하는 데 사용될 수 있다."
      ],
      "metadata": {
        "id": "LHPe8G0cGsy0"
      }
    }
  ]
}